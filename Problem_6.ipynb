{
  "nbformat": 4,
  "nbformat_minor": 0,
  "metadata": {
    "colab": {
      "private_outputs": true,
      "provenance": [],
      "authorship_tag": "ABX9TyNlejfLgXR3ydBULQck2neN",
      "include_colab_link": true
    },
    "kernelspec": {
      "name": "python3",
      "display_name": "Python 3"
    },
    "language_info": {
      "name": "python"
    }
  },
  "cells": [
    {
      "cell_type": "markdown",
      "metadata": {
        "id": "view-in-github",
        "colab_type": "text"
      },
      "source": [
        "<a href=\"https://colab.research.google.com/github/GEORMC/Nnumerical_Methods_Course/blob/main/Problem_6.ipynb\" target=\"_parent\"><img src=\"https://colab.research.google.com/assets/colab-badge.svg\" alt=\"Open In Colab\"/></a>"
      ]
    },
    {
      "cell_type": "code",
      "execution_count": null,
      "metadata": {
        "id": "1NEmyPUVZ9Jh"
      },
      "outputs": [],
      "source": [
        "# Call the function with the name \"Alice\"\n",
        "greet(\"Alice\")\n",
        "\n",
        "# Define a function named greet that takes a name as input\n",
        "def greet(name):\n",
        "  \"\"\"\n",
        "  This function greets the person passed in as a parameter.\n",
        "  \"\"\"\n",
        "  print(\"Hello, \" + name + \"!\")\n",
        "\n",
        "\n"
      ]
    }
  ]
}