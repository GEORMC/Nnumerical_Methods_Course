{
  "nbformat": 4,
  "nbformat_minor": 0,
  "metadata": {
    "colab": {
      "private_outputs": true,
      "provenance": [],
      "authorship_tag": "ABX9TyNxOKWA99ROSTii+rsy95tj",
      "include_colab_link": true
    },
    "kernelspec": {
      "name": "python3",
      "display_name": "Python 3"
    },
    "language_info": {
      "name": "python"
    }
  },
  "cells": [
    {
      "cell_type": "markdown",
      "metadata": {
        "id": "view-in-github",
        "colab_type": "text"
      },
      "source": [
        "<a href=\"https://colab.research.google.com/github/GEORMC/Nnumerical_Methods_Course/blob/main/Problem_4.ipynb\" target=\"_parent\"><img src=\"https://colab.research.google.com/assets/colab-badge.svg\" alt=\"Open In Colab\"/></a>"
      ]
    },
    {
      "cell_type": "code",
      "execution_count": null,
      "metadata": {
        "id": "yIxWP2sUQtmj"
      },
      "outputs": [],
      "source": [
        "#Problem 4 (For Loop)\n",
        "\n",
        "# Example 1: Iterating through a list\n",
        "fruits = [\"apple\", \"banana\", \"cherry\"]\n",
        "for fruit in fruits:\n",
        "  print(fruit)\n",
        "\n",
        "# Example 2: Iterating through a string\n",
        "for letter in \"banana\":\n",
        "  print(letter)\n",
        "\n",
        "# Example 3: Iterating with a range\n",
        "for i in range(6):\n",
        "  print(i)\n",
        "\n",
        "# Example 4: Iterating with a step\n",
        "for i in range(2, 30, 3):\n",
        "  print(i)\n",
        "\n",
        "# Example 5: Iterating through a dictionary\n",
        "my_dict = {\"name\": \"John\", \"age\": 30, \"city\": \"New York\"}\n",
        "for key, value in my_dict.items():\n",
        "  print(key, value)"
      ]
    }
  ]
}