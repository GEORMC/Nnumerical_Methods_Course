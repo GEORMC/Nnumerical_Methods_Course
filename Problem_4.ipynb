{
  "nbformat": 4,
  "nbformat_minor": 0,
  "metadata": {
    "colab": {
      "private_outputs": true,
      "provenance": [],
      "authorship_tag": "ABX9TyMywfRxXpBhWLTHfiFBVYlC",
      "include_colab_link": true
    },
    "kernelspec": {
      "name": "python3",
      "display_name": "Python 3"
    },
    "language_info": {
      "name": "python"
    }
  },
  "cells": [
    {
      "cell_type": "markdown",
      "metadata": {
        "id": "view-in-github",
        "colab_type": "text"
      },
      "source": [
        "<a href=\"https://colab.research.google.com/github/GEORMC/Nnumerical_Methods_Course/blob/main/Problem_4.ipynb\" target=\"_parent\"><img src=\"https://colab.research.google.com/assets/colab-badge.svg\" alt=\"Open In Colab\"/></a>"
      ]
    },
    {
      "cell_type": "code",
      "execution_count": null,
      "metadata": {
        "id": "yIxWP2sUQtmj"
      },
      "outputs": [],
      "source": [
        "#Problem 4 (For Loop)\n",
        "\n",
        "# Example 1: Iterating through a list\n",
        "fruits = [\"apple\", \"banana\", \"cherry\"]\n",
        "for fruit in fruits:\n",
        "  print(fruit)\n",
        "\n",
        "# Example 2: Iterating through a string\n",
        "for letter in \"banana\":\n",
        "  print(letter)\n",
        "\n",
        "# Example 3: Iterating with a range\n",
        "for i in range(6):\n",
        "  print(i)\n",
        "\n",
        "# Example 4: Iterating with a step\n",
        "for i in range(2, 30, 3):\n",
        "  print(i)\n",
        "\n",
        "# Example 5: Iterating through a dictionary\n",
        "my_dict = {\"name\": \"John\", \"age\": 30, \"city\": \"New York\"}\n",
        "for key, value in my_dict.items():\n",
        "  print(key, value)"
      ]
    },
    {
      "cell_type": "code",
      "source": [
        "# Example 6: Using for loop with algebraic operators\n",
        "numbers = [1, 2, 3, 4, 5]\n",
        "sum = 0\n",
        "for number in numbers:\n",
        "  sum += number  # This is equivalent to sum = sum + number\n",
        "print(\"The sum of the numbers is:\", sum)\n",
        "\n",
        "# Example 7: Multiplying all numbers in a list\n",
        "numbers = [1, 2, 3, 4, 5]\n",
        "product = 1\n",
        "for number in numbers:\n",
        "  product *= number  # This is equivalent to product = product * number\n",
        "print(\"The product of the numbers is:\", product)\n"
      ],
      "metadata": {
        "id": "a2fa6lnMR6WU"
      },
      "execution_count": null,
      "outputs": []
    },
    {
      "cell_type": "code",
      "source": [
        "#Problem 8\n",
        "\n",
        "matrix = [\n",
        "    [1, 2, 3],\n",
        "    [4, 5, 6],\n",
        "    [7, 8, 9]\n",
        "]\n",
        "\n",
        "# To see the matrix nicely, let's print it row by row:\n",
        "for row in matrix:\n",
        "  print(row)\n",
        "\n",
        "# Now, let's say you want to find the sum of all the elements in the matrix.\n",
        "total_sum = 0\n",
        "for row in matrix:\n",
        "  for number in row:\n",
        "    total_sum += number\n",
        "print(\"The sum of all elements in the matrix is:\", total_sum)\n",
        "\n",
        "# You can also use loops to perform other operations like finding the transpose of the matrix.\n",
        "# But for now, let's focus on the basics!\n"
      ],
      "metadata": {
        "id": "OZaXXXXnTJul"
      },
      "execution_count": null,
      "outputs": []
    },
    {
      "cell_type": "code",
      "source": [],
      "metadata": {
        "id": "De63bz2gTO_a"
      },
      "execution_count": null,
      "outputs": []
    }
  ]
}