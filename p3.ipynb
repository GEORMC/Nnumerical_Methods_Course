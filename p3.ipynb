{
  "nbformat": 4,
  "nbformat_minor": 0,
  "metadata": {
    "colab": {
      "private_outputs": true,
      "provenance": [],
      "authorship_tag": "ABX9TyM6pYjOuirf1AaXBPy4WZ1e",
      "include_colab_link": true
    },
    "kernelspec": {
      "name": "python3",
      "display_name": "Python 3"
    },
    "language_info": {
      "name": "python"
    }
  },
  "cells": [
    {
      "cell_type": "markdown",
      "metadata": {
        "id": "view-in-github",
        "colab_type": "text"
      },
      "source": [
        "<a href=\"https://colab.research.google.com/github/GEORMC/Nnumerical_Methods_Course/blob/main/p3.ipynb\" target=\"_parent\"><img src=\"https://colab.research.google.com/assets/colab-badge.svg\" alt=\"Open In Colab\"/></a>"
      ]
    },
    {
      "cell_type": "code",
      "execution_count": null,
      "metadata": {
        "id": "4-aOh0MSMXiL"
      },
      "outputs": [],
      "source": [
        "#P3-1\n",
        "import numpy as np\n",
        "\n",
        "# Define two matrices\n",
        "A = np.array([[1, 2], [3, 4]])\n",
        "B = np.array([[5, 6], [7, 8]])\n",
        "\n",
        "# Matrix multiplication\n",
        "C = np.dot(A, B)\n",
        "print(C)"
      ]
    },
    {
      "cell_type": "code",
      "source": [
        "#P3-2\n",
        "import numpy as np\n",
        "\n",
        "# Define a matrix\n",
        "A = np.array([[1, 2], [3, 4]])\n",
        "\n",
        "# Inverse of the matrix\n",
        "A_inv = np.linalg.inv(A)\n",
        "print(A_inv)\n"
      ],
      "metadata": {
        "id": "NrTcDh_tM9Nk"
      },
      "execution_count": null,
      "outputs": []
    },
    {
      "cell_type": "code",
      "source": [
        "#P3-3\n",
        "import numpy as np\n",
        "\n",
        "# Define a matrix\n",
        "A = np.array([[1, 2], [3, 4]])\n",
        "\n",
        "# Calculate the determinant\n",
        "det_A = np.linalg.det(A)\n",
        "print(det_A)"
      ],
      "metadata": {
        "id": "sUkRx6iQNX7c"
      },
      "execution_count": null,
      "outputs": []
    }
  ]
}