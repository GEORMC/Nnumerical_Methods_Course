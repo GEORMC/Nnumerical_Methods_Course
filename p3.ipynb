{
  "nbformat": 4,
  "nbformat_minor": 0,
  "metadata": {
    "colab": {
      "private_outputs": true,
      "provenance": [],
      "authorship_tag": "ABX9TyO36zOOOv1hmfXrUTu8UaHx",
      "include_colab_link": true
    },
    "kernelspec": {
      "name": "python3",
      "display_name": "Python 3"
    },
    "language_info": {
      "name": "python"
    }
  },
  "cells": [
    {
      "cell_type": "markdown",
      "metadata": {
        "id": "view-in-github",
        "colab_type": "text"
      },
      "source": [
        "<a href=\"https://colab.research.google.com/github/GEORMC/Nnumerical_Methods_Course/blob/main/p3.ipynb\" target=\"_parent\"><img src=\"https://colab.research.google.com/assets/colab-badge.svg\" alt=\"Open In Colab\"/></a>"
      ]
    },
    {
      "cell_type": "code",
      "execution_count": null,
      "metadata": {
        "id": "4-aOh0MSMXiL"
      },
      "outputs": [],
      "source": [
        "#P3-1\n",
        "import numpy as np\n",
        "\n",
        "# Define two matrices\n",
        "A = np.array([[1, 2], [3, 4]])\n",
        "B = np.array([[5, 6], [7, 8]])\n",
        "\n",
        "# Matrix multiplication\n",
        "C = np.dot(A, B)\n",
        "print(C)"
      ]
    },
    {
      "cell_type": "code",
      "source": [
        "#P3-2\n",
        "import numpy as np\n",
        "\n",
        "# Define a matrix\n",
        "A = np.array([[1, 2], [3, 4]])\n",
        "\n",
        "# Inverse of the matrix\n",
        "A_inv = np.linalg.inv(A)\n",
        "print(A_inv)\n"
      ],
      "metadata": {
        "id": "NrTcDh_tM9Nk"
      },
      "execution_count": null,
      "outputs": []
    },
    {
      "cell_type": "code",
      "source": [
        "#P3-3\n",
        "import numpy as np\n",
        "\n",
        "# Define a matrix\n",
        "A = np.array([[1, 2], [3, 4]])\n",
        "\n",
        "# Calculate the determinant\n",
        "det_A = np.linalg.det(A)\n",
        "print(det_A)"
      ],
      "metadata": {
        "id": "sUkRx6iQNX7c"
      },
      "execution_count": null,
      "outputs": []
    },
    {
      "cell_type": "code",
      "source": [
        "#P3-4\n",
        "import numpy as np\n",
        "\n",
        "# Define two vectors\n",
        "v1 = np.array([1, 2, 3])\n",
        "v2 = np.array([4, 5, 6])\n",
        "\n",
        "# Calculate dot product\n",
        "dot_product = np.dot(v1, v2)\n",
        "print(dot_product)\n"
      ],
      "metadata": {
        "id": "3vc343dqOthN"
      },
      "execution_count": null,
      "outputs": []
    },
    {
      "cell_type": "code",
      "source": [
        "#3-5\n",
        "\n",
        "import numpy as np\n",
        "\n",
        "# Define a matrix\n",
        "A = np.array([[1, 2], [3, 4]])\n",
        "\n",
        "# Transpose the matrix\n",
        "A_transpose = A.transpose()\n",
        "print(A_transpose)\n"
      ],
      "metadata": {
        "id": "pNdPNGRBPOjN"
      },
      "execution_count": null,
      "outputs": []
    }
  ]
}