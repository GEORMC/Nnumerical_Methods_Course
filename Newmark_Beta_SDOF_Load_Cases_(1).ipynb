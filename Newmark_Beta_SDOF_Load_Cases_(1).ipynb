{
  "cells": [
    {
      "cell_type": "markdown",
      "metadata": {
        "id": "view-in-github",
        "colab_type": "text"
      },
      "source": [
        "<a href=\"https://colab.research.google.com/github/GEORMC/Nnumerical_Methods_Course/blob/main/Newmark_Beta_SDOF_Load_Cases_(1).ipynb\" target=\"_parent\"><img src=\"https://colab.research.google.com/assets/colab-badge.svg\" alt=\"Open In Colab\"/></a>"
      ]
    },
    {
      "cell_type": "code",
      "source": [
        "import numpy as np\n",
        "import pandas as pd\n",
        "import nbformat as nbf\n",
        "\n",
        "# Initialize parameters for Newmark-beta method\n",
        "m = 1.0       # mass in kg\n",
        "c = 0.1       # damping coefficient in Ns/m\n",
        "k = 2.0       # stiffness in N/m\n",
        "dt = 0.1      # time step in seconds\n",
        "t_max = 1.0   # maximum time in seconds\n",
        "gamma = 0.5   # Newmark parameter (constant average acceleration)\n",
        "beta = 0.25   # Newmark parameter (constant average acceleration)\n",
        "\n",
        "# Time steps\n",
        "n_steps = int(t_max / dt) + 1\n",
        "time = np.arange(0, t_max + dt, dt)\n",
        "\n",
        "# Prepare force functions\n",
        "def constant_load(t):\n",
        "    return 1.0  # constant force\n",
        "\n",
        "def variable_load(t):\n",
        "    return np.sin(2 * np.pi * t)  # sinusoidal force\n",
        "\n",
        "def earthquake_load(t):\n",
        "    return 0.3 * np.exp(-((t - 0.5) ** 2) / (2 * 0.1 ** 2))  # synthetic earthquake\n",
        "\n",
        "# Function to solve SDOF system using Newmark-beta method for a given load function\n",
        "def newmark_beta(load_func):\n",
        "    # Initialize displacement, velocity, and acceleration arrays\n",
        "    u = np.zeros(n_steps)    # displacement\n",
        "    v = np.zeros(n_steps)    # velocity\n",
        "    a = np.zeros(n_steps)    # acceleration\n",
        "\n",
        "    # Initial acceleration from equilibrium equation at t=0\n",
        "    a[0] = (load_func(0) - c * v[0] - k * u[0]) / m\n",
        "\n",
        "    # Precompute constants for Newmark method\n",
        "    a0 = 1 / (beta * dt ** 2) * m + gamma / (beta * dt) * c\n",
        "    a1 = 1 / (beta * dt) * m + (gamma / beta - 1) * c\n",
        "    a2 = (1 / (2 * beta) - 1) * m + dt * (gamma / (2 * beta) - 1) * c\n",
        "\n",
        "    # Iterate through each time step\n",
        "    for n in range(n_steps - 1):\n",
        "        # Calculate effective force\n",
        "        p_eff = load_func(time[n+1]) + a0 * u[n] + a1 * v[n] + a2 * a[n]\n",
        "\n",
        "        # Displacement at next time step\n",
        "        u[n+1] = p_eff / (k + a0)\n",
        "\n",
        "        # Velocity and acceleration at next time step\n",
        "        v[n+1] = gamma / (beta * dt) * (u[n+1] - u[n]) + (1 - gamma / beta) * v[n] + dt * (1 - gamma / (2 * beta)) * a[n]\n",
        "        a[n+1] = 1 / (beta * dt ** 2) * (u[n+1] - u[n]) - 1 / (beta * dt) * v[n] - (1 / (2 * beta) - 1) * a[n]\n",
        "\n",
        "    return pd.DataFrame({\"Time (s)\": time, \"Displacement (m)\": u, \"Velocity (m/s)\": v, \"Acceleration (m/s^2)\": a})\n",
        "\n",
        "# Calculate results for each load case\n",
        "df_constant = newmark_beta(constant_load)\n",
        "df_variable = newmark_beta(variable_load)\n",
        "df_earthquake = newmark_beta(earthquake_load)\n",
        "\n"
      ],
      "metadata": {
        "id": "A3cOqETNMMh9"
      },
      "id": "A3cOqETNMMh9",
      "execution_count": 6,
      "outputs": []
    }
  ],
  "metadata": {
    "colab": {
      "provenance": [],
      "include_colab_link": true
    },
    "language_info": {
      "name": "python"
    },
    "kernelspec": {
      "name": "python3",
      "display_name": "Python 3"
    }
  },
  "nbformat": 4,
  "nbformat_minor": 5
}